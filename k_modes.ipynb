{
  "nbformat": 4,
  "nbformat_minor": 0,
  "metadata": {
    "colab": {
      "provenance": []
    },
    "kernelspec": {
      "name": "python3",
      "display_name": "Python 3"
    },
    "language_info": {
      "name": "python"
    }
  },
  "cells": [
    {
      "cell_type": "code",
      "execution_count": null,
      "metadata": {
        "id": "1q0uBZulid0I"
      },
      "outputs": [],
      "source": [
        "import numpy as np\n",
        "import matplotlib.pyplot as plt\n",
        "import pandas as pd"
      ]
    },
    {
      "cell_type": "code",
      "source": [
        "# cd sample_data"
      ],
      "metadata": {
        "id": "KcauvHgKilda"
      },
      "execution_count": null,
      "outputs": []
    },
    {
      "cell_type": "code",
      "source": [
        "# from google.colab import files\n",
        "# upload = files.upload()"
      ],
      "metadata": {
        "id": "S2Tg4m4oivVQ"
      },
      "execution_count": null,
      "outputs": []
    },
    {
      "cell_type": "code",
      "source": [
        "# data_set = pd.read_csv('glen.csv')\n",
        "data_set = pd.read_csv(\"glen.csv\", index_col=[\"name\"])"
      ],
      "metadata": {
        "id": "0KZIKocOi2wq"
      },
      "execution_count": 25,
      "outputs": []
    },
    {
      "cell_type": "code",
      "source": [
        "df2 = data_set[data_set.columns[:-2]]\n",
        "print(df2)"
      ],
      "metadata": {
        "colab": {
          "base_uri": "https://localhost:8080/"
        },
        "id": "sPBATtwVpULF",
        "outputId": "69e6aae7-6955-44c8-87f9-fbee606cfd9c"
      },
      "execution_count": 42,
      "outputs": [
        {
          "output_type": "stream",
          "name": "stdout",
          "text": [
            "                       DWD  wd_description  overlay_parents\n",
            "name                                                       \n",
            "belief                2735            3216             1053\n",
            "hoax                  1558            1189              468\n",
            "doubt                 2731            3785             1053\n",
            "claim_responsibility  1090             254             1811\n",
            "creation               324            2927               79\n",
            "...                    ...             ...              ...\n",
            "health_service        4606            3775              802\n",
            "disinfection          2129            3341             1299\n",
            "tax_collecting        2110            4142              348\n",
            "unloading              600            1249             1409\n",
            "public_pollution      1107            4352             1725\n",
            "\n",
            "[4709 rows x 3 columns]\n"
          ]
        }
      ]
    },
    {
      "cell_type": "code",
      "source": [
        "'''\n",
        "from sklearn.preprocessing import LabelEncoder\n",
        "le = LabelEncoder()\n",
        "\n",
        "data_encod = data_set\n",
        "data_encod.DWD = le.fit_transform(data_encod.DWD)\n",
        "# data_encod.name = le.fit_transform(data_encod.name)\n",
        "data_encod.wd_description = le.fit_transform(data_encod.wd_description)\n",
        "data_encod.overlay_parents = le.fit_transform(data_encod.overlay_parents)\n",
        "# data_encod\n",
        "\n",
        "X = data_encod[['DWD','wd_description', 'overlay_parents']].values\n",
        "# y = data_encod.name.values\n",
        "\n",
        "from sklearn.preprocessing import OneHotEncoder\n",
        "from sklearn.compose import ColumnTransformer\n",
        "from sklearn.impute import SimpleImputer\n",
        "ct = ColumnTransformer(\n",
        "                       [(\"imputer\", SimpleImputer(missing_values=np.nan, strategy='median'), [2]),\n",
        "                        (\"one_hot\", OneHotEncoder(categories='auto', sparse=False), slice(0, 1, 2))])\n",
        "\n",
        "X = ct.fit_transform(X)\n",
        "'''\n",
        "# X = X[:,0:4]"
      ],
      "metadata": {
        "id": "4qj_o9F-jWW-",
        "outputId": "444c1e55-a16d-40e7-a822-0117407f9fa4",
        "colab": {
          "base_uri": "https://localhost:8080/",
          "height": 122
        }
      },
      "execution_count": 44,
      "outputs": [
        {
          "output_type": "execute_result",
          "data": {
            "text/plain": [
              "'\\nfrom sklearn.preprocessing import LabelEncoder\\nle = LabelEncoder()\\n\\ndata_encod = data_set\\ndata_encod.DWD = le.fit_transform(data_encod.DWD)\\n# data_encod.name = le.fit_transform(data_encod.name)\\ndata_encod.wd_description = le.fit_transform(data_encod.wd_description)\\ndata_encod.overlay_parents = le.fit_transform(data_encod.overlay_parents)\\n# data_encod\\n\\nX = data_encod[[\\'DWD\\',\\'wd_description\\', \\'overlay_parents\\']].values\\n# y = data_encod.name.values\\n\\nfrom sklearn.preprocessing import OneHotEncoder\\nfrom sklearn.compose import ColumnTransformer\\nfrom sklearn.impute import SimpleImputer\\nct = ColumnTransformer(\\n                       [(\"imputer\", SimpleImputer(missing_values=np.nan, strategy=\\'median\\'), [2]),\\n                        (\"one_hot\", OneHotEncoder(categories=\\'auto\\', sparse=False), slice(0, 1, 2))])\\n\\nX = ct.fit_transform(X)\\n'"
            ],
            "application/vnd.google.colaboratory.intrinsic+json": {
              "type": "string"
            }
          },
          "metadata": {},
          "execution_count": 44
        }
      ]
    },
    {
      "cell_type": "code",
      "source": [
        "from kmodes.kmodes import KModes"
      ],
      "metadata": {
        "id": "MuYzkD-QjAcY"
      },
      "execution_count": 26,
      "outputs": []
    },
    {
      "cell_type": "code",
      "source": [
        "# untrained_model=KModes(n_clusters=4, n_init=4)\n",
        "# # data_tmp = data_set.iloc[:, :-1]\n",
        "# clusters=untrained_model.fit_predict(df2)\n",
        "# print(clusters)"
      ],
      "metadata": {
        "colab": {
          "base_uri": "https://localhost:8080/"
        },
        "id": "ew0GKwjelx4c",
        "outputId": "3aa4cd12-a0d1-4730-a3df-2d9a3fde8deb"
      },
      "execution_count": 47,
      "outputs": [
        {
          "output_type": "stream",
          "name": "stdout",
          "text": [
            "[0 0 0 ... 0 0 0]\n"
          ]
        }
      ]
    },
    {
      "cell_type": "code",
      "source": [
        "costs=[]\n",
        "K=range(2, 10)\n",
        "for k in K:\n",
        "    untrained_model=KModes(n_clusters=k, n_init=4)\n",
        "    trained_model=untrained_model.fit(df2)\n",
        "    costs.append(trained_model.cost_)\n",
        "plt.plot(K, costs, 'bx-')\n",
        "plt.xlabel('No. of clusters')\n",
        "plt.ylabel('Cost')\n",
        "plt.title('Elbow Method For Optimal k')\n",
        "plt.show()"
      ],
      "metadata": {
        "colab": {
          "base_uri": "https://localhost:8080/",
          "height": 472
        },
        "id": "v0mqDe8cqgj-",
        "outputId": "a1beba1f-2cda-4dac-f648-495b3afb3b10"
      },
      "execution_count": 45,
      "outputs": [
        {
          "output_type": "display_data",
          "data": {
            "text/plain": [
              "<Figure size 640x480 with 1 Axes>"
            ],
            "image/png": "[encoded data removed]"
          },
          "metadata": {}
        }
      ]
    },
    {
      "cell_type": "code",
      "source": [],
      "metadata": {
        "id": "YxaywdyBmZPb"
      },
      "execution_count": null,
      "outputs": []
    }
  ]
}