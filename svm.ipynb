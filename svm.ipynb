{
  "nbformat": 4,
  "nbformat_minor": 0,
  "metadata": {
    "colab": {
      "provenance": []
    },
    "kernelspec": {
      "name": "python3",
      "display_name": "Python 3"
    },
    "language_info": {
      "name": "python"
    }
  },
  "cells": [
    {
      "cell_type": "code",
      "execution_count": 2,
      "metadata": {
        "id": "YRKw6p0LGHW8"
      },
      "outputs": [],
      "source": [
        "import numpy as np\n",
        "import matplotlib.pyplot as plt\n",
        "import pandas as pd"
      ]
    },
    {
      "cell_type": "code",
      "source": [
        "# cd sample_data"
      ],
      "metadata": {
        "colab": {
          "base_uri": "https://localhost:8080/"
        },
        "id": "tosb2xKTGtQ3",
        "outputId": "d9fec2af-8301-4604-a1eb-ed2fccd3602f"
      },
      "execution_count": 3,
      "outputs": [
        {
          "output_type": "stream",
          "name": "stdout",
          "text": [
            "/content/sample_data\n"
          ]
        }
      ]
    },
    {
      "cell_type": "code",
      "source": [
        "# from google.colab import files\n",
        "# upload = files.upload()"
      ],
      "metadata": {
        "id": "lvWWsw8gGu8B"
      },
      "execution_count": 6,
      "outputs": []
    },
    {
      "cell_type": "code",
      "source": [
        "data_set = pd.read_csv('glen.csv')"
      ],
      "metadata": {
        "id": "s0uWiSTNGzH8"
      },
      "execution_count": 7,
      "outputs": []
    },
    {
      "cell_type": "markdown",
      "source": [
        "**One Hot Encoding**"
      ],
      "metadata": {
        "id": "LSbcebUOI8iM"
      }
    },
    {
      "cell_type": "code",
      "source": [
        "from sklearn.preprocessing import LabelEncoder\n",
        "le = LabelEncoder()\n",
        "\n",
        "data_encod = data_set\n",
        "data_encod.DWD = le.fit_transform(data_encod.DWD)\n",
        "data_encod.name = le.fit_transform(data_encod.name)\n",
        "data_encod.wd_description = le.fit_transform(data_encod.wd_description)\n",
        "data_encod.overlay_parents = le.fit_transform(data_encod.overlay_parents)\n",
        "# data_encod\n",
        "\n",
        "X = data_encod[['DWD','wd_description', 'overlay_parents']].values\n",
        "y = data_encod.name.values\n",
        "\n",
        "from sklearn.preprocessing import OneHotEncoder\n",
        "from sklearn.compose import ColumnTransformer\n",
        "from sklearn.impute import SimpleImputer\n",
        "# ct = ColumnTransformer([(OneHotEncoder(), [0,1,2])], remainder = 'passthrough')\n",
        "# ct = ColumnTransformer()\n",
        "ct = ColumnTransformer(\n",
        "                       [(\"imputer\", SimpleImputer(missing_values=np.nan, strategy='median'), [2]),\n",
        "                        (\"one_hot\", OneHotEncoder(categories='auto', sparse=False), slice(0, 1, 2))])\n",
        "\n",
        "X = ct.fit_transform(X)\n",
        "\n",
        "X = X[:,0:4]\n"
      ],
      "metadata": {
        "colab": {
          "base_uri": "https://localhost:8080/"
        },
        "id": "jJu78wFPJA92",
        "outputId": "29111382-f6d7-40bf-dc35-b5250dc08eb2"
      },
      "execution_count": 18,
      "outputs": [
        {
          "output_type": "stream",
          "name": "stderr",
          "text": [
            "/usr/local/lib/python3.10/dist-packages/sklearn/preprocessing/_encoders.py:868: FutureWarning: `sparse` was renamed to `sparse_output` in version 1.2 and will be removed in 1.4. `sparse_output` is ignored unless you leave `sparse` to its default value.\n",
            "  warnings.warn(\n"
          ]
        }
      ]
    },
    {
      "cell_type": "markdown",
      "source": [
        "**Support Vector Machine (SVM)**"
      ],
      "metadata": {
        "id": "nf23sQiRHQvL"
      }
    },
    {
      "cell_type": "code",
      "source": [
        "from sklearn.model_selection import train_test_split\n",
        "from sklearn.svm import SVC"
      ],
      "metadata": {
        "id": "nzTBvpAtHEfn"
      },
      "execution_count": 19,
      "outputs": []
    },
    {
      "cell_type": "code",
      "source": [
        "# X = data_set.drop(['name'], axis = 'columns')\n",
        "# y = data_set.name"
      ],
      "metadata": {
        "id": "SR-cMNMWHZMc"
      },
      "execution_count": 14,
      "outputs": []
    },
    {
      "cell_type": "code",
      "source": [
        "X_train, X_test, y_train, y_test = train_test_split(X, y, test_size= 0.2)"
      ],
      "metadata": {
        "id": "6WAJxzM8Hm68"
      },
      "execution_count": 20,
      "outputs": []
    },
    {
      "cell_type": "code",
      "source": [
        "model = SVC(kernel = 'linear', C = 1)    #linear, polynomial, Gaussian or radial basis, sigmoid"
      ],
      "metadata": {
        "id": "pby9SuCMHtcv"
      },
      "execution_count": 21,
      "outputs": []
    },
    {
      "cell_type": "code",
      "source": [
        "model.fit(X_train, y_train)\n",
        "svm_pred = model.predict(X_test)\n",
        "accuracy = model.score(X_test, y_test)"
      ],
      "metadata": {
        "id": "WZaQbx1gHxcR"
      },
      "execution_count": 22,
      "outputs": []
    },
    {
      "cell_type": "code",
      "source": [
        "print(accuracy)"
      ],
      "metadata": {
        "colab": {
          "base_uri": "https://localhost:8080/"
        },
        "id": "JI_ER8F1IV_C",
        "outputId": "8f98f6e2-439d-4b16-f73c-5e1929e3c62a"
      },
      "execution_count": 23,
      "outputs": [
        {
          "output_type": "stream",
          "name": "stdout",
          "text": [
            "0.0\n"
          ]
        }
      ]
    },
    {
      "cell_type": "code",
      "source": [
        "from sklearn.metrics import confusion_matrix\n",
        "print(confusion_matrix(y_test, svm_pred))"
      ],
      "metadata": {
        "colab": {
          "base_uri": "https://localhost:8080/"
        },
        "id": "wt4Iq0I2Q4cv",
        "outputId": "7c728e6d-e408-4dcd-d7a3-2a2c42a93591"
      },
      "execution_count": 24,
      "outputs": [
        {
          "output_type": "stream",
          "name": "stdout",
          "text": [
            "[[0 0 0 ... 0 0 0]\n",
            " [0 0 0 ... 0 0 0]\n",
            " [0 0 0 ... 0 0 0]\n",
            " ...\n",
            " [0 0 0 ... 0 0 0]\n",
            " [0 0 0 ... 0 0 0]\n",
            " [0 0 0 ... 0 0 0]]\n"
          ]
        }
      ]
    },
    {
      "cell_type": "code",
      "source": [],
      "metadata": {
        "id": "oyu4djx8RMa2"
      },
      "execution_count": null,
      "outputs": []
    }
  ]
}